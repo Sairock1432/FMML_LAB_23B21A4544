{
  "cells": [
    {
      "cell_type": "markdown",
      "metadata": {
        "id": "view-in-github",
        "colab_type": "text"
      },
      "source": [
        "<a href=\"https://colab.research.google.com/github/Sairock1432/FMML_LAB_23B21A4544/blob/main/FMML_M1L2.ipynb\" target=\"_parent\"><img src=\"https://colab.research.google.com/assets/colab-badge.svg\" alt=\"Open In Colab\"/></a>"
      ]
    },
    {
      "cell_type": "markdown",
      "metadata": {
        "id": "3Eu9VZbF01eq"
      },
      "source": [
        "# Machine Learning terms and metrics\n",
        "\n",
        "FMML Module 1, Lab 2\n",
        "\n",
        "In this lab, we will show a part of the ML pipeline by using the California Housing dataset. There are 20640 samples, each with 8 attributes like income of the block, age of the houses per district etc. The task is to predict the cost of the houses per district. We will use the scikit-learn library to load the data and perform some basic data preprocessing and model training. We will also show how to evaluate the model using some common metrics, split the data into training and testing sets, and use cross-validation to get a better estimate of the model's performance."
      ]
    },
    {
      "cell_type": "code",
      "execution_count": null,
      "metadata": {
        "id": "8qBvyEem0vLi"
      },
      "outputs": [],
      "source": [
        "import numpy as np\n",
        "from sklearn import datasets\n",
        "import matplotlib.pyplot as plt\n",
        "\n",
        "rng = np.random.default_rng(seed=42)"
      ]
    },
    {
      "cell_type": "code",
      "execution_count": null,
      "metadata": {
        "colab": {
          "base_uri": "https://localhost:8080/"
        },
        "id": "8LpqjN991GGJ",
        "outputId": "6f379d6f-dc2c-427a-93f7-587d7b909a5a"
      },
      "outputs": [
        {
          "output_type": "stream",
          "name": "stdout",
          "text": [
            ".. _california_housing_dataset:\n",
            "\n",
            "California Housing dataset\n",
            "--------------------------\n",
            "\n",
            "**Data Set Characteristics:**\n",
            "\n",
            "    :Number of Instances: 20640\n",
            "\n",
            "    :Number of Attributes: 8 numeric, predictive attributes and the target\n",
            "\n",
            "    :Attribute Information:\n",
            "        - MedInc        median income in block group\n",
            "        - HouseAge      median house age in block group\n",
            "        - AveRooms      average number of rooms per household\n",
            "        - AveBedrms     average number of bedrooms per household\n",
            "        - Population    block group population\n",
            "        - AveOccup      average number of household members\n",
            "        - Latitude      block group latitude\n",
            "        - Longitude     block group longitude\n",
            "\n",
            "    :Missing Attribute Values: None\n",
            "\n",
            "This dataset was obtained from the StatLib repository.\n",
            "https://www.dcc.fc.up.pt/~ltorgo/Regression/cal_housing.html\n",
            "\n",
            "The target variable is the median house value for California districts,\n",
            "expressed in hundreds of thousands of dollars ($100,000).\n",
            "\n",
            "This dataset was derived from the 1990 U.S. census, using one row per census\n",
            "block group. A block group is the smallest geographical unit for which the U.S.\n",
            "Census Bureau publishes sample data (a block group typically has a population\n",
            "of 600 to 3,000 people).\n",
            "\n",
            "A household is a group of people residing within a home. Since the average\n",
            "number of rooms and bedrooms in this dataset are provided per household, these\n",
            "columns may take surprisingly large values for block groups with few households\n",
            "and many empty houses, such as vacation resorts.\n",
            "\n",
            "It can be downloaded/loaded using the\n",
            ":func:`sklearn.datasets.fetch_california_housing` function.\n",
            "\n",
            ".. topic:: References\n",
            "\n",
            "    - Pace, R. Kelley and Ronald Barry, Sparse Spatial Autoregressions,\n",
            "      Statistics and Probability Letters, 33 (1997) 291-297\n",
            "\n"
          ]
        }
      ],
      "source": [
        "dataset = datasets.fetch_california_housing()\n",
        "# Dataset description\n",
        "print(dataset.DESCR)"
      ]
    },
    {
      "cell_type": "markdown",
      "metadata": {
        "id": "PCe1VNftevgE"
      },
      "source": [
        "Given below are the list of target values. These correspond to the house value derived considering all the 8 input features and are continuous values. We should use regression models to predict these values but we will start with a simple classification model for the sake of simplicity. We need to just round off the values to the nearest integer and use a classification model to predict the house value."
      ]
    },
    {
      "cell_type": "code",
      "execution_count": null,
      "metadata": {
        "colab": {
          "base_uri": "https://localhost:8080/"
        },
        "id": "F8K0ggBOevgE",
        "outputId": "f71dd070-d8a0-41e1-b595-107fec9f47e8"
      },
      "outputs": [
        {
          "output_type": "stream",
          "name": "stdout",
          "text": [
            "Orignal target values: [4.526 3.585 3.521 ... 0.923 0.847 0.894]\n",
            "Target values after conversion: [4 3 3 ... 0 0 0]\n",
            "Input variables shape: (20640, 8)\n",
            "Output variables shape: (20640,)\n"
          ]
        }
      ],
      "source": [
        "print(\"Orignal target values:\", dataset.target)\n",
        "\n",
        "dataset.target = dataset.target.astype(int)\n",
        "\n",
        "print(\"Target values after conversion:\", dataset.target)\n",
        "print(\"Input variables shape:\", dataset.data.shape)\n",
        "print(\"Output variables shape:\", dataset.target.shape)"
      ]
    },
    {
      "cell_type": "markdown",
      "metadata": {
        "id": "iNx4174W5xRg"
      },
      "source": [
        "The simplest model to use for classification is the K-Nearest Neighbors model. We will use this model to predict the house value with a K value of 1. We will also use the accuracy metric to evaluate the model."
      ]
    },
    {
      "cell_type": "code",
      "execution_count": null,
      "metadata": {
        "id": "07zpydQj1hIQ"
      },
      "outputs": [],
      "source": [
        "def NN1(traindata, trainlabel, query):\n",
        "    \"\"\"\n",
        "    This function takes in the training data, training labels and a query point\n",
        "    and returns the predicted label for the query point using the nearest neighbour algorithm\n",
        "\n",
        "    traindata: numpy array of shape (n,d) where n is the number of samples and d is the number of features\n",
        "    trainlabel: numpy array of shape (n,) where n is the number of samples\n",
        "    query: numpy array of shape (d,) where d is the number of features\n",
        "\n",
        "    returns: the predicted label for the query point which is the label of the training data which is closest to the query point\n",
        "    \"\"\"\n",
        "    diff = (\n",
        "        traindata - query\n",
        "    )  # find the difference between features. Numpy automatically takes care of the size here\n",
        "    sq = diff * diff  # square the differences\n",
        "    dist = sq.sum(1)  # add up the squares\n",
        "    label = trainlabel[np.argmin(dist)]\n",
        "    return label\n",
        "\n",
        "\n",
        "def NN(traindata, trainlabel, testdata):\n",
        "    \"\"\"\n",
        "    This function takes in the training data, training labels and test data\n",
        "    and returns the predicted labels for the test data using the nearest neighbour algorithm\n",
        "\n",
        "    traindata: numpy array of shape (n,d) where n is the number of samples and d is the number of features\n",
        "    trainlabel: numpy array of shape (n,) where n is the number of samples\n",
        "    testdata: numpy array of shape (m,d) where m is the number of test samples and d is the number of features\n",
        "\n",
        "    returns: the predicted labels for the test data which is the label of the training data which is closest to each test point\n",
        "    \"\"\"\n",
        "    predlabel = np.array([NN1(traindata, trainlabel, i) for i in testdata])\n",
        "    return predlabel"
      ]
    },
    {
      "cell_type": "markdown",
      "metadata": {
        "id": "03JktkfIGaje"
      },
      "source": [
        "We will also define a 'random classifier', which randomly allots labels to each sample"
      ]
    },
    {
      "cell_type": "code",
      "execution_count": null,
      "metadata": {
        "id": "fogWAtjyGhAH"
      },
      "outputs": [],
      "source": [
        "def RandomClassifier(traindata, trainlabel, testdata):\n",
        "    \"\"\"\n",
        "    This function takes in the training data, training labels and test data\n",
        "    and returns the predicted labels for the test data using the random classifier algorithm\n",
        "\n",
        "    In reality, we don't need these arguments but we are passing them to keep the function signature consistent with other classifiers\n",
        "\n",
        "    traindata: numpy array of shape (n,d) where n is the number of samples and d is the number of features\n",
        "    trainlabel: numpy array of shape (n,) where n is the number of samples\n",
        "    testdata: numpy array of shape (m,d) where m is the number of test samples and d is the number of features\n",
        "\n",
        "    returns: the predicted labels for the test data which is a random label from the training data\n",
        "    \"\"\"\n",
        "\n",
        "    classes = np.unique(trainlabel)\n",
        "    rints = rng.integers(low=0, high=len(classes), size=len(testdata))\n",
        "    predlabel = classes[rints]\n",
        "    return predlabel"
      ]
    },
    {
      "cell_type": "markdown",
      "metadata": {
        "id": "1Hjf1KHs7fU5"
      },
      "source": [
        "We need a metric to evaluate the performance of the model. Let us define a metric 'Accuracy' to see how good our learning algorithm is. Accuracy is the ratio of the number of correctly classified samples to the total number of samples. The higher the accuracy, the better the algorithm. We will use the accuracy metric to evaluate and compate the performance of the K-Nearest Neighbors model and the random classifier."
      ]
    },
    {
      "cell_type": "code",
      "execution_count": null,
      "metadata": {
        "id": "ouuCqWU07bz-"
      },
      "outputs": [],
      "source": [
        "def Accuracy(gtlabel, predlabel):\n",
        "    \"\"\"\n",
        "    This function takes in the ground-truth labels and predicted labels\n",
        "    and returns the accuracy of the classifier\n",
        "\n",
        "    gtlabel: numpy array of shape (n,) where n is the number of samples\n",
        "    predlabel: numpy array of shape (n,) where n is the number of samples\n",
        "\n",
        "    returns: the accuracy of the classifier which is the number of correct predictions divided by the total number of predictions\n",
        "    \"\"\"\n",
        "    assert len(gtlabel) == len(\n",
        "        predlabel\n",
        "    ), \"Length of the ground-truth labels and predicted labels should be the same\"\n",
        "    correct = (\n",
        "        gtlabel == predlabel\n",
        "    ).sum()  # count the number of times the groundtruth label is equal to the predicted label.\n",
        "    return correct / len(gtlabel)"
      ]
    },
    {
      "cell_type": "markdown",
      "metadata": {
        "id": "4vJFwBFa9Klw"
      },
      "source": [
        "Let us make a function to split the dataset with the desired probability. We will use this function to split the dataset into training and testing sets. We will use the training set to train the model and the testing set to evaluate the model."
      ]
    },
    {
      "cell_type": "code",
      "execution_count": null,
      "metadata": {
        "id": "Ko0VzpSM2Tdi"
      },
      "outputs": [],
      "source": [
        "def split(data, label, percent):\n",
        "    # generate a random number for each sample\n",
        "    rnd = rng.random(len(label))\n",
        "    split1 = rnd < percent\n",
        "    split2 = rnd >= percent\n",
        "\n",
        "    split1data = data[split1, :]\n",
        "    split1label = label[split1]\n",
        "    split2data = data[split2, :]\n",
        "    split2label = label[split2]\n",
        "    return split1data, split1label, split2data, split2label"
      ]
    },
    {
      "cell_type": "markdown",
      "metadata": {
        "id": "AcK3LEAJ_LGC"
      },
      "source": [
        "We will reserve 20% of our dataset as the test set. We will not change this portion throughout our experiments"
      ]
    },
    {
      "cell_type": "code",
      "execution_count": null,
      "metadata": {
        "colab": {
          "base_uri": "https://localhost:8080/"
        },
        "id": "bBZkHBLJ1iU-",
        "outputId": "73ffc0bd-354d-4051-f17a-c6adebdd58fe"
      },
      "outputs": [
        {
          "output_type": "stream",
          "name": "stdout",
          "text": [
            "Number of test samples: 4144\n",
            "Number of train samples: 16496\n",
            "Percent of test data: 20.07751937984496 %\n"
          ]
        }
      ],
      "source": [
        "testdata, testlabel, alltraindata, alltrainlabel = split(\n",
        "    dataset.data, dataset.target, 20 / 100\n",
        ")\n",
        "print(\"Number of test samples:\", len(testlabel))\n",
        "print(\"Number of train samples:\", len(alltrainlabel))\n",
        "print(\"Percent of test data:\", len(testlabel) * 100 / len(dataset.target), \"%\")"
      ]
    },
    {
      "cell_type": "markdown",
      "metadata": {
        "id": "a6Ss0Z6IAGNV"
      },
      "source": [
        "## Experiments with splits\n",
        "\n",
        "Let us reserve some of our train data as a validation set"
      ]
    },
    {
      "cell_type": "code",
      "execution_count": null,
      "metadata": {
        "id": "WFew2iry_7W7"
      },
      "outputs": [],
      "source": [
        "traindata, trainlabel, valdata, vallabel = split(\n",
        "    alltraindata, alltrainlabel, 75 / 100)"
      ]
    },
    {
      "cell_type": "markdown",
      "metadata": {
        "id": "60hiu4clFN1i"
      },
      "source": [
        "What is the accuracy of our classifiers on the train dataset?"
      ]
    },
    {
      "cell_type": "code",
      "execution_count": null,
      "metadata": {
        "colab": {
          "base_uri": "https://localhost:8080/"
        },
        "id": "DBlZDTHUFTZx",
        "outputId": "2d0ed616-7ece-4d8f-8f8d-cb1eb48f7385"
      },
      "outputs": [
        {
          "output_type": "stream",
          "name": "stdout",
          "text": [
            "Training accuracy using nearest neighbour algorithm: 100.0 %\n",
            "Training accuracy using random classifier:  16.4375808538163 %\n"
          ]
        }
      ],
      "source": [
        "trainpred = NN(traindata, trainlabel, traindata)\n",
        "trainAccuracy = Accuracy(trainlabel, trainpred)\n",
        "print(\"Training accuracy using nearest neighbour algorithm:\", trainAccuracy*100, \"%\")\n",
        "\n",
        "trainpred = RandomClassifier(traindata, trainlabel, traindata)\n",
        "trainAccuracy = Accuracy(trainlabel, trainpred)\n",
        "print(\"Training accuracy using random classifier: \", trainAccuracy*100, \"%\")"
      ]
    },
    {
      "cell_type": "markdown",
      "metadata": {
        "id": "7h08-9gJDtSy"
      },
      "source": [
        "For nearest neighbour, the train accuracy is always 1. The accuracy of the random classifier is close to 1/(number of classes) which is 0.1666 in our case. This is because the random classifier randomly assigns a label to each sample and the probability of assigning the correct label is 1/(number of classes). Let us predict the labels for our validation set and get the accuracy. This accuracy is a good estimate of the accuracy of our model on unseen data."
      ]
    },
    {
      "cell_type": "code",
      "execution_count": null,
      "metadata": {
        "colab": {
          "base_uri": "https://localhost:8080/"
        },
        "id": "4h7bXoW_2H3v",
        "outputId": "ab09a4be-1b0e-4db2-ef67-a4b5f41c48fe"
      },
      "outputs": [
        {
          "output_type": "stream",
          "name": "stdout",
          "text": [
            "Validation accuracy using nearest neighbour algorithm: 34.10852713178294 %\n",
            "Validation accuracy using random classifier: 16.884689922480618 %\n"
          ]
        }
      ],
      "source": [
        "valpred = NN(traindata, trainlabel, valdata)\n",
        "valAccuracy = Accuracy(vallabel, valpred)\n",
        "print(\"Validation accuracy using nearest neighbour algorithm:\", valAccuracy*100, \"%\")\n",
        "\n",
        "\n",
        "valpred = RandomClassifier(traindata, trainlabel, valdata)\n",
        "valAccuracy = Accuracy(vallabel, valpred)\n",
        "print(\"Validation accuracy using random classifier:\", valAccuracy*100, \"%\")"
      ]
    },
    {
      "cell_type": "markdown",
      "metadata": {
        "id": "py9bLguFEjfg"
      },
      "source": [
        "Validation accuracy of nearest neighbour is considerably less than its train accuracy while the validation accuracy of random classifier is the same. However, the validation accuracy of nearest neighbour is twice that of the random classifier. Now let us try another random split and check the validation accuracy. We will see that the validation accuracy changes with the split. This is because the validation set is small and the accuracy is highly dependent on the samples in the validation set. We can get a better estimate of the accuracy by using cross-validation."
      ]
    },
    {
      "cell_type": "code",
      "execution_count": null,
      "metadata": {
        "colab": {
          "base_uri": "https://localhost:8080/"
        },
        "id": "ujm3cyYzEntE",
        "outputId": "8e5506e9-474c-4fd6-d7a6-b14aa1b8b8d1"
      },
      "outputs": [
        {
          "output_type": "stream",
          "name": "stdout",
          "text": [
            "Validation accuracy using nearest neighbour algorithm: 34.048257372654156 %\n"
          ]
        }
      ],
      "source": [
        "traindata, trainlabel, valdata, vallabel = split(\n",
        "    alltraindata, alltrainlabel, 75 / 100)\n",
        "valpred = NN(traindata, trainlabel, valdata)\n",
        "valAccuracy = Accuracy(vallabel, valpred)\n",
        "print(\"Validation accuracy using nearest neighbour algorithm:\", valAccuracy*100, \"%\")"
      ]
    },
    {
      "cell_type": "markdown",
      "metadata": {
        "id": "oSOx7U83EKie"
      },
      "source": [
        "You can run the above cell multiple times to try with different random splits.\n",
        "We notice that the accuracy is different for each run, but close together.\n",
        "\n",
        "Now let us compare it with the accuracy we get on the test dataset."
      ]
    },
    {
      "cell_type": "code",
      "execution_count": null,
      "metadata": {
        "colab": {
          "base_uri": "https://localhost:8080/"
        },
        "id": "PNEZ5ToYBEDW",
        "outputId": "2487fee9-0efc-4ce9-8b76-c8fd90b0c94a"
      },
      "outputs": [
        {
          "output_type": "stream",
          "name": "stdout",
          "text": [
            "Test accuracy: 34.91795366795367 %\n"
          ]
        }
      ],
      "source": [
        "testpred = NN(alltraindata, alltrainlabel, testdata)\n",
        "testAccuracy = Accuracy(testlabel, testpred)\n",
        "\n",
        "print(\"Test accuracy:\", testAccuracy*100, \"%\")"
      ]
    },
    {
      "cell_type": "markdown",
      "metadata": {
        "id": "w3dGD531K3gH"
      },
      "source": [
        "### Try it out for yourself and answer:\n",
        "1. How is the accuracy of the validation set affected if we increase the percentage of validation set? What happens when we reduce it?\n",
        "2. How does the size of the train and validation set affect how well we can predict the accuracy on the test set using the validation set?\n",
        "3. What do you think is a good percentage to reserve for the validation set so that thest two factors are balanced?\n",
        "\n",
        "Answer for both nearest neighbour and random classifier. You can note down the values for your experiments and plot a graph using  <a href=https://matplotlib.org/stable/gallery/lines_bars_and_markers/step_demo.html#sphx-glr-gallery-lines-bars-and-markers-step-demo-py>plt.plot<href>. Check also for extreme values for splits, like 99.9% or 0.1%"
      ]
    },
    {
      "cell_type": "markdown",
      "metadata": {
        "id": "M9zvdYY6evgI"
      },
      "source": [
        "> Exercise: Try to implement a 3 nearest neighbour classifier and compare the accuracy of the 1 nearest neighbour classifier and the 3 nearest neighbour classifier on the test dataset. You can use the KNeighborsClassifier class from the scikit-learn library to implement the K-Nearest Neighbors model. You can set the number of neighbors using the n_neighbors parameter. You can also use the accuracy_score function from the scikit-learn library to calculate the accuracy of the model."
      ]
    },
    {
      "cell_type": "markdown",
      "metadata": {
        "id": "PnYvkAZLQY7h"
      },
      "source": [
        "## Multiple Splits\n",
        "\n",
        "One way to get more accurate estimates for the test accuracy is by using <b>cross-validation</b>. Here, we will try a simple version, where we do multiple train/val splits and take the average of validation accuracies as the test accuracy estimation. Here is a function for doing this. Note that this function will take a long time to execute. You can reduce the number of splits to make it faster."
      ]
    },
    {
      "cell_type": "code",
      "execution_count": null,
      "metadata": {
        "id": "E4nGCUQXBTzo"
      },
      "outputs": [],
      "source": [
        "def AverageAccuracy(alldata, alllabel, splitpercent, iterations, classifier=NN):\n",
        "    \"\"\"\n",
        "    This function takes in the data, labels, split percentage, number of iterations and classifier function\n",
        "    and returns the average accuracy of the classifier\n",
        "\n",
        "    alldata: numpy array of shape (n,d) where n is the number of samples and d is the number of features\n",
        "    alllabel: numpy array of shape (n,) where n is the number of samples\n",
        "    splitpercent: float which is the percentage of data to be used for training\n",
        "    iterations: int which is the number of iterations to run the classifier\n",
        "    classifier: function which is the classifier function to be used\n",
        "\n",
        "    returns: the average accuracy of the classifier\n",
        "    \"\"\"\n",
        "    accuracy = 0\n",
        "    for ii in range(iterations):\n",
        "        traindata, trainlabel, valdata, vallabel = split(\n",
        "            alldata, alllabel, splitpercent\n",
        "        )\n",
        "        valpred = classifier(traindata, trainlabel, valdata)\n",
        "        accuracy += Accuracy(vallabel, valpred)\n",
        "    return accuracy / iterations  # average of all accuracies"
      ]
    },
    {
      "cell_type": "code",
      "execution_count": null,
      "metadata": {
        "colab": {
          "base_uri": "https://localhost:8080/"
        },
        "id": "H3qtNar7Bbik",
        "outputId": "5a5a53ec-beea-4f7f-cefc-79f74cceb1bd"
      },
      "outputs": [
        {
          "output_type": "stream",
          "name": "stdout",
          "text": [
            "Average validation accuracy: 33.58463539517022 %\n",
            "Test accuracy: 34.91795366795367 %\n"
          ]
        }
      ],
      "source": [
        "avg_acc = AverageAccuracy(alltraindata, alltrainlabel, 75 / 100, 10, classifier=NN)\n",
        "print(\"Average validation accuracy:\", avg_acc*100, \"%\")\n",
        "testpred = NN(alltraindata, alltrainlabel, testdata)\n",
        "\n",
        "print(\"Test accuracy:\", Accuracy(testlabel, testpred)*100, \"%\")"
      ]
    },
    {
      "cell_type": "markdown",
      "metadata": {
        "id": "33GIn4x5VH-d"
      },
      "source": [
        "This is a very simple way of doing cross-validation. There are many well-known algorithms for cross-validation, like k-fold cross-validation, leave-one-out etc. This will be covered in detail in a later module. For more information about cross-validation, check <a href=https://en.wikipedia.org/wiki/Cross-validation_(statistics)>Cross-validatioin (Wikipedia)</a>\n",
        "\n",
        "### Questions\n",
        "1. Does averaging the validation accuracy across multiple splits give more consistent results?\n",
        "2. Does it give more accurate estimate of test accuracy?\n",
        "3. What is the effect of the number of iterations on the estimate? Do we get a better estimate with higher iterations?\n",
        "4. Consider the results you got for the previous questions. Can we deal with a very small train dataset or validation dataset by increasing the iterations?\n"
      ]
    },
    {
      "cell_type": "markdown",
      "metadata": {
        "id": "z-SBxy1qevgJ"
      },
      "source": [
        "> Exercise: How does the accuracy of the 3 nearest neighbour classifier change with the number of splits? How is it affected by the split size? Compare the results with the 1 nearest neighbour classifier."
      ]
    },
    {
      "cell_type": "markdown",
      "source": [
        "Yes, averaging the validation accuracy across multiple splits **does** lead to more consistent and reliable results. This approach is a fundamental aspect of cross-validation, a widely used technique in machine learning for evaluating model performance. Here's a detailed explanation of why and how this works:\n",
        "\n",
        "### **1. Reducing Variance in Performance Estimates**\n",
        "\n",
        "- **Single Split Limitations**: When you perform a single train-validation split, the accuracy you obtain is highly dependent on how the data is partitioned. If by chance the split results in a particularly easy or hard subset for the model, the accuracy can be misleadingly high or low.\n",
        "  \n",
        "- **Averaging Over Multiple Splits**: By averaging the validation accuracy over multiple different splits, you mitigate the effect of any single anomalous split. This reduces the variance in your performance estimates, providing a more stable and trustworthy measure of how your model is likely to perform on unseen data.\n",
        "\n",
        "### **2. Better Utilization of Data**\n",
        "\n",
        "- **Maximizing Data Usage**: Especially in datasets where data is limited, using multiple splits ensures that every data point gets to be in both the training and validation sets across different iterations. This comprehensive usage helps in capturing the underlying patterns more effectively.\n",
        "\n",
        "### **3. Mitigating Overfitting to a Particular Split**\n",
        "\n",
        "- **Overfitting Risks**: Relying on a single split can sometimes lead to overfitting to that specific partition, especially if the validation set is not representative of the overall data distribution.\n",
        "  \n",
        "- **Averaging Benefits**: Multiple splits ensure that the model's performance is evaluated across various subsets of data, making it less likely to overfit to peculiarities of any single validation set.\n",
        "\n",
        "### **4. Applicability to Different Models**\n",
        "\n",
        "- **Consistency Across Classifiers**: Whether you're using a simple classifier like the 1-Nearest Neighbor (1-NN) or a random classifier, averaging across multiple splits provides a consistent performance metric. This makes it easier to compare different models or different configurations of the same model.\n",
        "\n",
        "### **5. Practical Observations from Your Lab**\n",
        "\n",
        "In your specific lab setup with the California Housing dataset:\n",
        "\n",
        "- **Nearest Neighbor Classifier**: You observed that the training accuracy is always 1 (100%) for the 1-NN classifier because each training point is its own nearest neighbor. However, the validation and test accuracies vary depending on the split. Averaging these accuracies across multiple splits gives a more accurate reflection of the model's generalization ability.\n",
        "\n",
        "- **Random Classifier**: Since the random classifier assigns labels randomly, its accuracy should hover around the inverse of the number of classes (e.g., ~16.66% for 6 classes). Averaging across multiple splits confirms this expectation and ensures that any deviations are due to randomness rather than specific data splits.\n",
        "\n",
        "### **6. Visualization and Further Validation**\n",
        "\n",
        "To reinforce the consistency achieved through averaging:\n",
        "\n",
        "- **Plotting Results**: As suggested in your lab, plotting the validation accuracies for each split can visually demonstrate the reduction in variability when averaged. Consistent averages across multiple runs indicate reliable performance estimates.\n",
        "\n",
        "- **Extreme Splits**: Testing with extreme split percentages (e.g., 99.9% training, 0.1% validation) and observing how the average accuracy behaves can further validate the robustness of the averaging approach.\n",
        "\n",
        "### **Conclusion**\n",
        "\n",
        "Averaging validation accuracy across multiple splits **enhances the reliability and consistency** of your performance estimates. It provides a more comprehensive evaluation of your model by ensuring that the performance metrics are not skewed by any particular train-validation partition. This practice is especially beneficial when comparing different models or tuning hyperparameters, as it offers a stable foundation for making informed decisions.\n",
        "\n",
        "### **Additional Recommendations**\n",
        "\n",
        "- **Use Established Cross-Validation Techniques**: While your lab implements a simple averaging method, consider exploring more structured cross-validation techniques like **k-fold cross-validation** or **stratified k-fold cross-validation**. These methods ensure that each fold is representative of the entire dataset, further enhancing the reliability of your performance estimates.\n",
        "\n",
        "- **Automate with scikit-learn**: Libraries like scikit-learn offer built-in functions for cross-validation (e.g., `cross_val_score`, `GridSearchCV`), which are optimized and provide additional functionalities such as parallel processing and hyperparameter tuning.\n",
        "\n",
        "- **Consider Other Metrics**: While accuracy is a useful metric, especially for balanced datasets, exploring other metrics like **precision**, **recall**, **F1-score**, or **ROC-AUC** can provide a more nuanced understanding of your model's performance, particularly in cases of class imbalance.\n",
        "\n",
        "By adopting these practices, you can ensure that your machine learning models are evaluated thoroughly and perform reliably in real-world scenarios.\n"
      ],
      "metadata": {
        "id": "4jgghGRZPsC5"
      }
    },
    {
      "cell_type": "markdown",
      "source": [
        "Yes, averaging validation accuracy across multiple splits generally provides a more accurate estimate of test accuracy. Here’s why:\n",
        "\n",
        "### 1. **Reduction of Bias and Variance:**\n",
        "   - **Bias Reduction**: A single validation split might introduce bias, especially if the split is not representative of the overall data distribution. By averaging across multiple splits, you reduce the bias that might occur from an unrepresentative validation set.\n",
        "   - **Variance Reduction**: The accuracy of a single validation split can be highly variable, depending on how the data is partitioned. Averaging across multiple splits smooths out this variance, leading to a more stable and reliable estimate.\n",
        "\n",
        "### 2. **Better Representation of Data:**\n",
        "   - **Comprehensive Evaluation**: When you use multiple splits, each data point is likely to appear in both the training and validation sets across different iterations. This ensures that the model is evaluated on a more comprehensive set of data, leading to an estimate that better reflects the model’s performance on unseen data (i.e., the test set).\n",
        "   - **Mitigating Overfitting to Validation Set**: By averaging results from different splits, you reduce the risk of the model overfitting to a specific validation set, which could lead to an overly optimistic or pessimistic estimate of test accuracy.\n",
        "\n",
        "### 3. **Cross-Validation as a Standard Practice:**\n",
        "   - **Cross-Validation**: The approach you’re using is essentially a simplified form of cross-validation. In full k-fold cross-validation, the dataset is divided into k equally sized folds, and the model is trained k times, each time using a different fold as the validation set and the remaining k-1 folds as the training set. The final accuracy is averaged over all k runs. This is widely regarded as one of the best methods for estimating test accuracy.\n",
        "   - **Comparison with Test Accuracy**: The average validation accuracy obtained from multiple splits (or folds) is usually very close to the test accuracy, especially when the test set is large and representative of the data distribution. This makes cross-validation a powerful tool for estimating test accuracy when a separate test set is not available or when you want to avoid overfitting to the test set.\n",
        "\n",
        "### 4. **Real-World Application:**\n",
        "   - **Closer to Test Set Performance**: In practice, the more varied the validation data used across splits, the closer the average validation accuracy will be to the actual test accuracy. This is because the model has been evaluated on a diverse range of data subsets, making the average validation accuracy a robust predictor of how the model will perform on new, unseen data.\n",
        "   - **Useful for Model Selection and Hyperparameter Tuning**: This approach is particularly useful when tuning model hyperparameters or selecting among multiple models. The model or hyperparameter configuration that performs best on averaged validation accuracy is likely to perform well on the test set as well.\n",
        "\n",
        "### 5. **Potential Limitations:**\n",
        "   - **Dataset Size**: If your dataset is very small, even cross-validation might not perfectly estimate test accuracy because each split could still be too small to capture all the data's variability. In such cases, using techniques like leave-one-out cross-validation (LOOCV) might provide better estimates, though at a higher computational cost.\n",
        "   - **Distribution Shifts**: If there’s a significant distribution shift between the training/validation data and the test data, even cross-validation might not fully account for it. However, this is a more general issue that affects all methods of estimating test accuracy, not just cross-validation.\n",
        "\n",
        "### Conclusion:\n",
        "Averaging validation accuracy across multiple splits does indeed provide a more accurate estimate of test accuracy compared to using a single validation split. This method helps mitigate the randomness introduced by any single data partition and offers a robust assessment of how the model will likely perform on new, unseen data. This approach is a cornerstone of reliable model evaluation in machine learning.\n"
      ],
      "metadata": {
        "id": "8fwvTS6LQSD5"
      }
    },
    {
      "cell_type": "markdown",
      "source": [
        "Yes, increasing the number of iterations generally leads to a better and more reliable estimate of test accuracy when averaging validation accuracy across multiple splits. Here’s how the number of iterations affects the estimate:\n",
        "\n",
        "### 1. **Convergence to a Stable Estimate:**\n",
        "   - **Law of Large Numbers**: As the number of iterations increases, the average validation accuracy converges to a stable value. This is similar to the statistical principle known as the law of large numbers, where the average of repeated measurements tends to stabilize as the number of samples increases.\n",
        "   - **Reduced Randomness**: With a low number of iterations, the average accuracy might be more influenced by the specific random splits chosen. As the number of iterations increases, the influence of any single split diminishes, leading to a more accurate and less variable estimate.\n",
        "\n",
        "### 2. **Mitigation of Outliers:**\n",
        "   - **Outlier Splits**: In some cases, certain splits might result in validation sets that are either particularly easy or particularly hard for the model to classify. These outliers can skew the average accuracy, especially if the number of iterations is low.\n",
        "   - **Averaging Effect**: With more iterations, the effect of outlier splits is diluted. The overall estimate becomes more representative of the model’s true performance across a variety of data scenarios.\n",
        "\n",
        "### 3. **Confidence in the Estimate:**\n",
        "   - **Variance Reduction**: The variability in the average accuracy decreases as the number of iterations increases. This reduction in variance means that the estimate becomes more consistent and reliable, providing higher confidence that the estimated accuracy is close to the true test accuracy.\n",
        "   - **Estimation of Confidence Intervals**: With a higher number of iterations, you can also calculate confidence intervals around your accuracy estimate. These intervals provide a range within which the true test accuracy is likely to fall, offering additional insight into the estimate's reliability.\n",
        "\n",
        "### 4. **Diminishing Returns:**\n",
        "   - **Asymptotic Behavior**: While increasing the number of iterations improves the estimate, the benefit tends to diminish after a certain point. Initially, each additional iteration can significantly improve the estimate, but beyond a certain number of iterations, the improvements become marginal.\n",
        "   - **Computational Cost**: There is a trade-off between the number of iterations and computational cost. More iterations require more computation, which may not always be practical, especially for large datasets or complex models. Therefore, finding a balance between accuracy and computational efficiency is important.\n",
        "\n",
        "### 5. **Practical Considerations:**\n",
        "   - **Sufficient Iterations**: In practice, the number of iterations needed to achieve a stable estimate depends on the complexity of the dataset and the model. For many problems, around 5 to 10 iterations might be sufficient to get a reliable estimate, though more complex problems might require more iterations.\n",
        "   - **Cross-Validation**: In k-fold cross-validation, k represents the number of iterations. Typically, values like 5-fold or 10-fold cross-validation are used because they offer a good balance between estimation accuracy and computational cost. Increasing k generally improves the estimate but with diminishing returns.\n",
        "\n",
        "### Conclusion:\n",
        "Increasing the number of iterations when averaging validation accuracy across multiple splits does improve the estimate of test accuracy, making it more reliable and stable. However, there is a point of diminishing returns where additional iterations contribute less to the accuracy of the estimate relative to the increased computational cost. Therefore, while more iterations lead to a better estimate, it's important to balance the number of iterations with the available computational resources and the specific needs of the problem you are addressing."
      ],
      "metadata": {
        "id": "WT6_RkfEQtkG"
      }
    },
    {
      "cell_type": "markdown",
      "source": [
        "Dealing with a very small train or validation dataset by increasing the number of iterations is not a straightforward solution, and it comes with some limitations. Here’s why:\n",
        "\n",
        "### 1. **Impact of Small Datasets:**\n",
        "   - **Training Dataset**: If the training dataset is very small, the model may not learn meaningful patterns from the data, regardless of the number of iterations. Small training datasets can lead to underfitting, where the model is too simple to capture the underlying structure of the data.\n",
        "   - **Validation Dataset**: If the validation dataset is very small, it might not be representative of the overall data distribution. This can lead to high variance in validation accuracy across different splits, as each split might have very different characteristics. In such cases, the estimate of test accuracy will be unreliable, even if you increase the number of iterations.\n",
        "\n",
        "### 2. **Effect of Increasing Iterations:**\n",
        "   - **Mitigation of Variability**: Increasing the number of iterations can help mitigate some of the variability in the validation accuracy that arises from having a small validation set. By averaging over many iterations, the estimate may become more stable, but it won’t necessarily become more accurate if the underlying data is too limited.\n",
        "   - **Limited Learning from Small Datasets**: If the training dataset is too small, the model might not improve significantly with more iterations. The fundamental problem is the lack of sufficient data to learn from, and increasing iterations won't compensate for this limitation.\n",
        "\n",
        "### 3. **Trade-offs and Challenges:**\n",
        "   - **Overfitting**: With a small training set, there is a higher risk of overfitting, where the model performs well on the training data but poorly on unseen data. Cross-validation with more iterations might help identify overfitting by showing inconsistent validation accuracy, but it won’t prevent it.\n",
        "   - **Unrepresentative Validation Set**: With a small validation set, each split may yield a very different validation accuracy due to the lack of representativeness. Increasing iterations will average out these variations, but the underlying problem of a non-representative validation set remains.\n",
        "   - **Computational Inefficiency**: If you try to compensate for small datasets by drastically increasing the number of iterations, you might face diminishing returns in terms of accuracy improvement. Moreover, the computational cost will increase, which may not be justified by the marginal gains in accuracy.\n",
        "\n",
        "### 4. **Potential Solutions:**\n",
        "   - **Data Augmentation**: If possible, augmenting the training data (especially in fields like image processing or text) can artificially increase the size of the dataset, leading to better model training.\n",
        "   - **Bootstrapping**: For very small validation datasets, bootstrapping (resampling with replacement) can help in creating multiple validation sets, which might give a better estimate of the model’s performance.\n",
        "   - **Cross-Validation**: For very small datasets, techniques like leave-one-out cross-validation (LOOCV) can be used, where each data point is used as a validation set once, and the rest as the training set. This maximizes the use of available data but can be computationally expensive.\n",
        "   - **Simpler Models**: With small datasets, simpler models with fewer parameters might perform better because they are less likely to overfit.\n",
        "\n",
        "### Conclusion:\n",
        "Increasing the number of iterations can help achieve more stable estimates of accuracy, especially when dealing with small validation datasets. However, it does not fundamentally solve the problems associated with small training or validation datasets. The key issue is that small datasets may not provide enough information for the model to learn effectively or for the validation set to be representative of the overall data distribution. Alternative strategies like data augmentation, bootstrapping, and using simpler models should be considered alongside increasing iterations to address the challenges posed by small datasets.\n"
      ],
      "metadata": {
        "id": "oSWYO_wERMVL"
      }
    }
  ],
  "metadata": {
    "colab": {
      "provenance": [],
      "include_colab_link": true
    },
    "kernelspec": {
      "display_name": "Python 3",
      "name": "python3"
    },
    "language_info": {
      "codemirror_mode": {
        "name": "ipython",
        "version": 3
      },
      "file_extension": ".py",
      "mimetype": "text/x-python",
      "name": "python",
      "nbconvert_exporter": "python",
      "pygments_lexer": "ipython3",
      "version": "3.10.10"
    }
  },
  "nbformat": 4,
  "nbformat_minor": 0
}